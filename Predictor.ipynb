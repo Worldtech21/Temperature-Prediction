{
  "nbformat": 4,
  "nbformat_minor": 0,
  "metadata": {
    "colab": {
      "provenance": []
    },
    "kernelspec": {
      "name": "python3",
      "display_name": "Python 3"
    },
    "language_info": {
      "name": "python"
    }
  },
  "cells": [
    {
      "cell_type": "code",
      "execution_count": 1,
      "metadata": {
        "id": "KK1lz0Xw9e0N"
      },
      "outputs": [],
      "source": [
        "import pandas as pd\n",
        "import numpy as np\n",
        "from xgboost import XGBRegressor"
      ]
    },
    {
      "cell_type": "code",
      "source": [
        "# Load the pre-trained model\n",
        "model = XGBRegressor()\n",
        "model.load_model('/content/Final_Model.json')"
      ],
      "metadata": {
        "id": "3HKRxkYF9jhj"
      },
      "execution_count": 2,
      "outputs": []
    },
    {
      "cell_type": "code",
      "source": [
        "# a string of space seperated monthly temperatures in the correct order (JAN to DEC).\n",
        "input_year = []\n",
        "temp = int(input(\"Enter Year Number: \"))\n",
        "input_year.append(temp)\n",
        "input_mon = list(map(float, input(\"ENTER JAN, FEB, APR TEMPs IN CORRECT SEQUENCE: \").split()))\n",
        "if len(input_mon) != 3:\n",
        "    raise ValueError(\"Input data must contain 3 values.\")\n",
        "input_data = input_year + input_mon"
      ],
      "metadata": {
        "colab": {
          "base_uri": "https://localhost:8080/"
        },
        "id": "pXXAC_Ah9niY",
        "outputId": "c174b7d8-7b3d-4c59-f5a1-20df99f6a48e"
      },
      "execution_count": 3,
      "outputs": [
        {
          "name": "stdout",
          "output_type": "stream",
          "text": [
            "Enter Year Number: 2003\n",
            "ENTER JAN, FEB, APR TEMPs IN CORRECT SEQUENCE: 25.4 27.93 34.02\n"
          ]
        }
      ]
    },
    {
      "cell_type": "code",
      "source": [
        "# Convert input data to a DataFrame (to match model input format)\n",
        "input_df = pd.DataFrame([input_data], columns=['YEAR', 'JAN', 'FEB', 'APR'])"
      ],
      "metadata": {
        "id": "7vU_SSbW9xo9"
      },
      "execution_count": 4,
      "outputs": []
    },
    {
      "cell_type": "code",
      "source": [
        "# Use the model to make a prediction\n",
        "predicted_annual_temperature = model.predict(input_df)"
      ],
      "metadata": {
        "id": "ooKERnDI9xdG"
      },
      "execution_count": 5,
      "outputs": []
    },
    {
      "cell_type": "code",
      "source": [
        "# Print the prediction\n",
        "print(f\"Predicted Annual Temperature: {predicted_annual_temperature[0]}\")"
      ],
      "metadata": {
        "colab": {
          "base_uri": "https://localhost:8080/"
        },
        "id": "491EA0ZJ92Xz",
        "outputId": "843ae5ff-37f8-4705-b250-83dca5cb7b1f"
      },
      "execution_count": 6,
      "outputs": [
        {
          "output_type": "stream",
          "name": "stdout",
          "text": [
            "Predicted Annual Temperature: 30.7309627532959\n"
          ]
        }
      ]
    },
    {
      "cell_type": "code",
      "source": [],
      "metadata": {
        "id": "2am3Mq_fBgdE"
      },
      "execution_count": 6,
      "outputs": []
    }
  ]
}